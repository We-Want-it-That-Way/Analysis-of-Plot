{
  "nbformat": 4,
  "nbformat_minor": 0,
  "metadata": {
    "colab": {
      "name": "Graph_1_Analysis_part_1.ipynb",
      "provenance": [],
      "authorship_tag": "ABX9TyOFPffTAJKCO2Aw89TYCKuc",
      "include_colab_link": true
    },
    "kernelspec": {
      "name": "python3",
      "display_name": "Python 3"
    },
    "language_info": {
      "name": "python"
    }
  },
  "cells": [
    {
      "cell_type": "markdown",
      "metadata": {
        "id": "view-in-github",
        "colab_type": "text"
      },
      "source": [
        "<a href=\"https://colab.research.google.com/github/We-Want-it-That-Way/Analysis-of-Plot/blob/main/Graph_1_Analysis_part_1.ipynb\" target=\"_parent\"><img src=\"https://colab.research.google.com/assets/colab-badge.svg\" alt=\"Open In Colab\"/></a>"
      ]
    },
    {
      "cell_type": "code",
      "metadata": {
        "colab": {
          "base_uri": "https://localhost:8080/",
          "height": 335
        },
        "id": "3cPDjcPs9xcw",
        "outputId": "8d82d3a0-9496-4357-99d8-cb2817aa9d6e"
      },
      "source": [
        "import pandas as pd\n",
        "import numpy as np\n",
        "import math\n",
        "H=pd.DataFrame({'Name of pulsar':['J0205+6449','J0218+4232','J0437-4715','J0534+2200','J1105-6107','J1124-5916','J1617-5055','J1930+1852','J2124-3358','J2229+6114'],'po':[0.06571592849324,0.00232309053151224,0.005757451936712637,0.0333924123,0.0632021309179,0.13547685441,0.069356847,0.136855046957,0.00493111494309662,0.05162357393],'pdot':[1.93754256e-13,7.73955e-20,5.729215e-20,4.20972e-13,1.584462e-14,7.52566e-13,1.351e-13,7.5057e-13,2.05705e-20,7.827e-14],'D in Kpc':[3.200,3.150,0.157,2.000,2.360, 5.000, 4.743, 7.000, 0.410, 3.000],'Age':[5.37e+03,4.76e+08,1.59e+09,1.26e+03,6.32e+04,2.85e+03, 8.13e+03, 2.89e+03, 3.8e+09, 1.05e+04],'R_L':['NaN',466.36,13.52,2200.00,'NaN','NaN','NaN','NaN', 2.86, 13.50],'B_s':[3.61e+12,4.29e+08,4.29e+08,3.79e+12,1.01e+12,1.02e+13,3.1e+12,1.03e+13,3.22e+08,2.03e+12],\n",
        "'Edot':[2.7e+37,2.4e+35,1.2e+34,4.5e+38,2.5e+36,1.2e+37,1.6e+37,1.2e+37,6.8e+33,2.2e+37],\n",
        "'Edot2':[2.6e+36,2.5e+34,4.8e+35,1.1e+38,4.4e+35,4.8e+35,7.1e+35,2.4e+35,2.4e+35,2.5e+36],\n",
        "'B_sI':[3.61e+12,4.27e+08,2.85e+08,3.79e+12,np.nan,np.nan,np.nan,np.nan, 1.92e+08,np.nan],\n",
        "'B_Lc':[1.19e+05,3.21e+05,2.85e+04,9.55e+05,3.76e+04,3.85e+04, 8.70e+04, 3.75e+04, 2.52e+04, 1.39e+05]})\n",
        "H"
      ],
      "execution_count": 1,
      "outputs": [
        {
          "output_type": "execute_result",
          "data": {
            "text/html": [
              "<div>\n",
              "<style scoped>\n",
              "    .dataframe tbody tr th:only-of-type {\n",
              "        vertical-align: middle;\n",
              "    }\n",
              "\n",
              "    .dataframe tbody tr th {\n",
              "        vertical-align: top;\n",
              "    }\n",
              "\n",
              "    .dataframe thead th {\n",
              "        text-align: right;\n",
              "    }\n",
              "</style>\n",
              "<table border=\"1\" class=\"dataframe\">\n",
              "  <thead>\n",
              "    <tr style=\"text-align: right;\">\n",
              "      <th></th>\n",
              "      <th>Name of pulsar</th>\n",
              "      <th>po</th>\n",
              "      <th>pdot</th>\n",
              "      <th>D in Kpc</th>\n",
              "      <th>Age</th>\n",
              "      <th>R_L</th>\n",
              "      <th>B_s</th>\n",
              "      <th>Edot</th>\n",
              "      <th>Edot2</th>\n",
              "      <th>B_sI</th>\n",
              "      <th>B_Lc</th>\n",
              "    </tr>\n",
              "  </thead>\n",
              "  <tbody>\n",
              "    <tr>\n",
              "      <th>0</th>\n",
              "      <td>J0205+6449</td>\n",
              "      <td>0.065716</td>\n",
              "      <td>1.937543e-13</td>\n",
              "      <td>3.200</td>\n",
              "      <td>5.370000e+03</td>\n",
              "      <td>NaN</td>\n",
              "      <td>3.610000e+12</td>\n",
              "      <td>2.700000e+37</td>\n",
              "      <td>2.600000e+36</td>\n",
              "      <td>3.610000e+12</td>\n",
              "      <td>119000.0</td>\n",
              "    </tr>\n",
              "    <tr>\n",
              "      <th>1</th>\n",
              "      <td>J0218+4232</td>\n",
              "      <td>0.002323</td>\n",
              "      <td>7.739550e-20</td>\n",
              "      <td>3.150</td>\n",
              "      <td>4.760000e+08</td>\n",
              "      <td>466.36</td>\n",
              "      <td>4.290000e+08</td>\n",
              "      <td>2.400000e+35</td>\n",
              "      <td>2.500000e+34</td>\n",
              "      <td>4.270000e+08</td>\n",
              "      <td>321000.0</td>\n",
              "    </tr>\n",
              "    <tr>\n",
              "      <th>2</th>\n",
              "      <td>J0437-4715</td>\n",
              "      <td>0.005757</td>\n",
              "      <td>5.729215e-20</td>\n",
              "      <td>0.157</td>\n",
              "      <td>1.590000e+09</td>\n",
              "      <td>13.52</td>\n",
              "      <td>4.290000e+08</td>\n",
              "      <td>1.200000e+34</td>\n",
              "      <td>4.800000e+35</td>\n",
              "      <td>2.850000e+08</td>\n",
              "      <td>28500.0</td>\n",
              "    </tr>\n",
              "    <tr>\n",
              "      <th>3</th>\n",
              "      <td>J0534+2200</td>\n",
              "      <td>0.033392</td>\n",
              "      <td>4.209720e-13</td>\n",
              "      <td>2.000</td>\n",
              "      <td>1.260000e+03</td>\n",
              "      <td>2200</td>\n",
              "      <td>3.790000e+12</td>\n",
              "      <td>4.500000e+38</td>\n",
              "      <td>1.100000e+38</td>\n",
              "      <td>3.790000e+12</td>\n",
              "      <td>955000.0</td>\n",
              "    </tr>\n",
              "    <tr>\n",
              "      <th>4</th>\n",
              "      <td>J1105-6107</td>\n",
              "      <td>0.063202</td>\n",
              "      <td>1.584462e-14</td>\n",
              "      <td>2.360</td>\n",
              "      <td>6.320000e+04</td>\n",
              "      <td>NaN</td>\n",
              "      <td>1.010000e+12</td>\n",
              "      <td>2.500000e+36</td>\n",
              "      <td>4.400000e+35</td>\n",
              "      <td>NaN</td>\n",
              "      <td>37600.0</td>\n",
              "    </tr>\n",
              "    <tr>\n",
              "      <th>5</th>\n",
              "      <td>J1124-5916</td>\n",
              "      <td>0.135477</td>\n",
              "      <td>7.525660e-13</td>\n",
              "      <td>5.000</td>\n",
              "      <td>2.850000e+03</td>\n",
              "      <td>NaN</td>\n",
              "      <td>1.020000e+13</td>\n",
              "      <td>1.200000e+37</td>\n",
              "      <td>4.800000e+35</td>\n",
              "      <td>NaN</td>\n",
              "      <td>38500.0</td>\n",
              "    </tr>\n",
              "    <tr>\n",
              "      <th>6</th>\n",
              "      <td>J1617-5055</td>\n",
              "      <td>0.069357</td>\n",
              "      <td>1.351000e-13</td>\n",
              "      <td>4.743</td>\n",
              "      <td>8.130000e+03</td>\n",
              "      <td>NaN</td>\n",
              "      <td>3.100000e+12</td>\n",
              "      <td>1.600000e+37</td>\n",
              "      <td>7.100000e+35</td>\n",
              "      <td>NaN</td>\n",
              "      <td>87000.0</td>\n",
              "    </tr>\n",
              "    <tr>\n",
              "      <th>7</th>\n",
              "      <td>J1930+1852</td>\n",
              "      <td>0.136855</td>\n",
              "      <td>7.505700e-13</td>\n",
              "      <td>7.000</td>\n",
              "      <td>2.890000e+03</td>\n",
              "      <td>NaN</td>\n",
              "      <td>1.030000e+13</td>\n",
              "      <td>1.200000e+37</td>\n",
              "      <td>2.400000e+35</td>\n",
              "      <td>NaN</td>\n",
              "      <td>37500.0</td>\n",
              "    </tr>\n",
              "    <tr>\n",
              "      <th>8</th>\n",
              "      <td>J2124-3358</td>\n",
              "      <td>0.004931</td>\n",
              "      <td>2.057050e-20</td>\n",
              "      <td>0.410</td>\n",
              "      <td>3.800000e+09</td>\n",
              "      <td>2.86</td>\n",
              "      <td>3.220000e+08</td>\n",
              "      <td>6.800000e+33</td>\n",
              "      <td>2.400000e+35</td>\n",
              "      <td>1.920000e+08</td>\n",
              "      <td>25200.0</td>\n",
              "    </tr>\n",
              "    <tr>\n",
              "      <th>9</th>\n",
              "      <td>J2229+6114</td>\n",
              "      <td>0.051624</td>\n",
              "      <td>7.827000e-14</td>\n",
              "      <td>3.000</td>\n",
              "      <td>1.050000e+04</td>\n",
              "      <td>13.5</td>\n",
              "      <td>2.030000e+12</td>\n",
              "      <td>2.200000e+37</td>\n",
              "      <td>2.500000e+36</td>\n",
              "      <td>NaN</td>\n",
              "      <td>139000.0</td>\n",
              "    </tr>\n",
              "  </tbody>\n",
              "</table>\n",
              "</div>"
            ],
            "text/plain": [
              "  Name of pulsar        po          pdot  ...         Edot2          B_sI      B_Lc\n",
              "0     J0205+6449  0.065716  1.937543e-13  ...  2.600000e+36  3.610000e+12  119000.0\n",
              "1     J0218+4232  0.002323  7.739550e-20  ...  2.500000e+34  4.270000e+08  321000.0\n",
              "2     J0437-4715  0.005757  5.729215e-20  ...  4.800000e+35  2.850000e+08   28500.0\n",
              "3     J0534+2200  0.033392  4.209720e-13  ...  1.100000e+38  3.790000e+12  955000.0\n",
              "4     J1105-6107  0.063202  1.584462e-14  ...  4.400000e+35           NaN   37600.0\n",
              "5     J1124-5916  0.135477  7.525660e-13  ...  4.800000e+35           NaN   38500.0\n",
              "6     J1617-5055  0.069357  1.351000e-13  ...  7.100000e+35           NaN   87000.0\n",
              "7     J1930+1852  0.136855  7.505700e-13  ...  2.400000e+35           NaN   37500.0\n",
              "8     J2124-3358  0.004931  2.057050e-20  ...  2.400000e+35  1.920000e+08   25200.0\n",
              "9     J2229+6114  0.051624  7.827000e-14  ...  2.500000e+36           NaN  139000.0\n",
              "\n",
              "[10 rows x 11 columns]"
            ]
          },
          "metadata": {
            "tags": []
          },
          "execution_count": 1
        }
      ]
    },
    {
      "cell_type": "code",
      "metadata": {
        "id": "PQpPAoUb98Fm"
      },
      "source": [
        "H.iloc[:,[0,1]].max()\n"
      ],
      "execution_count": null,
      "outputs": []
    },
    {
      "cell_type": "code",
      "metadata": {
        "id": "Duw1K_rC-ApP"
      },
      "source": [
        "from scipy import stats\n",
        "import seaborn as sns\n",
        "import matplotlib.pyplot as plt\n",
        "np.random.seed(0)"
      ],
      "execution_count": 2,
      "outputs": []
    },
    {
      "cell_type": "code",
      "metadata": {
        "colab": {
          "base_uri": "https://localhost:8080/",
          "height": 316
        },
        "id": "cyyUufkF-FEC",
        "outputId": "e2db012b-0aba-4aaa-a381-c75a58407ed9"
      },
      "source": [
        "sns.scatterplot(x=np.log10(H['B_Lc']), y=np.log10(H['po']),hue=H['Name of pulsar'])\n",
        "plt.title(\"$B_{Lc}$ vs p\")\n",
        "plt.xlabel(\"$logB_{Lc}$\")\n",
        "plt.ylabel(\"logP\")"
      ],
      "execution_count": 3,
      "outputs": [
        {
          "output_type": "execute_result",
          "data": {
            "text/plain": [
              "Text(0, 0.5, 'logP')"
            ]
          },
          "metadata": {
            "tags": []
          },
          "execution_count": 3
        },
        {
          "output_type": "display_data",
          "data": {
            "image/png": "[encoded data removed]",
            "text/plain": [
              "<Figure size 432x288 with 1 Axes>"
            ]
          },
          "metadata": {
            "tags": [],
            "needs_background": "light"
          }
        }
      ]
    },
    {
      "cell_type": "markdown",
      "metadata": {
        "id": "yfKUD-4w-Hkg"
      },
      "source": [
        "Seeing the data"
      ]
    },
    {
      "cell_type": "code",
      "metadata": {
        "colab": {
          "base_uri": "https://localhost:8080/",
          "height": 335
        },
        "id": "zii2kwXi-OeP",
        "outputId": "51d74e0d-5677-442a-d61f-688fc0ef773f"
      },
      "source": [
        "H.iloc[:,[0,1]].sort_values(by='po',ascending=True)"
      ],
      "execution_count": 4,
      "outputs": [
        {
          "output_type": "execute_result",
          "data": {
            "text/html": [
              "<div>\n",
              "<style scoped>\n",
              "    .dataframe tbody tr th:only-of-type {\n",
              "        vertical-align: middle;\n",
              "    }\n",
              "\n",
              "    .dataframe tbody tr th {\n",
              "        vertical-align: top;\n",
              "    }\n",
              "\n",
              "    .dataframe thead th {\n",
              "        text-align: right;\n",
              "    }\n",
              "</style>\n",
              "<table border=\"1\" class=\"dataframe\">\n",
              "  <thead>\n",
              "    <tr style=\"text-align: right;\">\n",
              "      <th></th>\n",
              "      <th>Name of pulsar</th>\n",
              "      <th>po</th>\n",
              "    </tr>\n",
              "  </thead>\n",
              "  <tbody>\n",
              "    <tr>\n",
              "      <th>1</th>\n",
              "      <td>J0218+4232</td>\n",
              "      <td>0.002323</td>\n",
              "    </tr>\n",
              "    <tr>\n",
              "      <th>8</th>\n",
              "      <td>J2124-3358</td>\n",
              "      <td>0.004931</td>\n",
              "    </tr>\n",
              "    <tr>\n",
              "      <th>2</th>\n",
              "      <td>J0437-4715</td>\n",
              "      <td>0.005757</td>\n",
              "    </tr>\n",
              "    <tr>\n",
              "      <th>3</th>\n",
              "      <td>J0534+2200</td>\n",
              "      <td>0.033392</td>\n",
              "    </tr>\n",
              "    <tr>\n",
              "      <th>9</th>\n",
              "      <td>J2229+6114</td>\n",
              "      <td>0.051624</td>\n",
              "    </tr>\n",
              "    <tr>\n",
              "      <th>4</th>\n",
              "      <td>J1105-6107</td>\n",
              "      <td>0.063202</td>\n",
              "    </tr>\n",
              "    <tr>\n",
              "      <th>0</th>\n",
              "      <td>J0205+6449</td>\n",
              "      <td>0.065716</td>\n",
              "    </tr>\n",
              "    <tr>\n",
              "      <th>6</th>\n",
              "      <td>J1617-5055</td>\n",
              "      <td>0.069357</td>\n",
              "    </tr>\n",
              "    <tr>\n",
              "      <th>5</th>\n",
              "      <td>J1124-5916</td>\n",
              "      <td>0.135477</td>\n",
              "    </tr>\n",
              "    <tr>\n",
              "      <th>7</th>\n",
              "      <td>J1930+1852</td>\n",
              "      <td>0.136855</td>\n",
              "    </tr>\n",
              "  </tbody>\n",
              "</table>\n",
              "</div>"
            ],
            "text/plain": [
              "  Name of pulsar        po\n",
              "1     J0218+4232  0.002323\n",
              "8     J2124-3358  0.004931\n",
              "2     J0437-4715  0.005757\n",
              "3     J0534+2200  0.033392\n",
              "9     J2229+6114  0.051624\n",
              "4     J1105-6107  0.063202\n",
              "0     J0205+6449  0.065716\n",
              "6     J1617-5055  0.069357\n",
              "5     J1124-5916  0.135477\n",
              "7     J1930+1852  0.136855"
            ]
          },
          "metadata": {
            "tags": []
          },
          "execution_count": 4
        }
      ]
    },
    {
      "cell_type": "code",
      "metadata": {
        "colab": {
          "base_uri": "https://localhost:8080/",
          "height": 335
        },
        "id": "wx99J12h-QGD",
        "outputId": "e2c5793c-06ff-40fa-80bd-f9814ae8c980"
      },
      "source": [
        "H.iloc[:,[0,10]].sort_values(by='B_Lc',ascending=False)"
      ],
      "execution_count": 5,
      "outputs": [
        {
          "output_type": "execute_result",
          "data": {
            "text/html": [
              "<div>\n",
              "<style scoped>\n",
              "    .dataframe tbody tr th:only-of-type {\n",
              "        vertical-align: middle;\n",
              "    }\n",
              "\n",
              "    .dataframe tbody tr th {\n",
              "        vertical-align: top;\n",
              "    }\n",
              "\n",
              "    .dataframe thead th {\n",
              "        text-align: right;\n",
              "    }\n",
              "</style>\n",
              "<table border=\"1\" class=\"dataframe\">\n",
              "  <thead>\n",
              "    <tr style=\"text-align: right;\">\n",
              "      <th></th>\n",
              "      <th>Name of pulsar</th>\n",
              "      <th>B_Lc</th>\n",
              "    </tr>\n",
              "  </thead>\n",
              "  <tbody>\n",
              "    <tr>\n",
              "      <th>3</th>\n",
              "      <td>J0534+2200</td>\n",
              "      <td>955000.0</td>\n",
              "    </tr>\n",
              "    <tr>\n",
              "      <th>1</th>\n",
              "      <td>J0218+4232</td>\n",
              "      <td>321000.0</td>\n",
              "    </tr>\n",
              "    <tr>\n",
              "      <th>9</th>\n",
              "      <td>J2229+6114</td>\n",
              "      <td>139000.0</td>\n",
              "    </tr>\n",
              "    <tr>\n",
              "      <th>0</th>\n",
              "      <td>J0205+6449</td>\n",
              "      <td>119000.0</td>\n",
              "    </tr>\n",
              "    <tr>\n",
              "      <th>6</th>\n",
              "      <td>J1617-5055</td>\n",
              "      <td>87000.0</td>\n",
              "    </tr>\n",
              "    <tr>\n",
              "      <th>5</th>\n",
              "      <td>J1124-5916</td>\n",
              "      <td>38500.0</td>\n",
              "    </tr>\n",
              "    <tr>\n",
              "      <th>4</th>\n",
              "      <td>J1105-6107</td>\n",
              "      <td>37600.0</td>\n",
              "    </tr>\n",
              "    <tr>\n",
              "      <th>7</th>\n",
              "      <td>J1930+1852</td>\n",
              "      <td>37500.0</td>\n",
              "    </tr>\n",
              "    <tr>\n",
              "      <th>2</th>\n",
              "      <td>J0437-4715</td>\n",
              "      <td>28500.0</td>\n",
              "    </tr>\n",
              "    <tr>\n",
              "      <th>8</th>\n",
              "      <td>J2124-3358</td>\n",
              "      <td>25200.0</td>\n",
              "    </tr>\n",
              "  </tbody>\n",
              "</table>\n",
              "</div>"
            ],
            "text/plain": [
              "  Name of pulsar      B_Lc\n",
              "3     J0534+2200  955000.0\n",
              "1     J0218+4232  321000.0\n",
              "9     J2229+6114  139000.0\n",
              "0     J0205+6449  119000.0\n",
              "6     J1617-5055   87000.0\n",
              "5     J1124-5916   38500.0\n",
              "4     J1105-6107   37600.0\n",
              "7     J1930+1852   37500.0\n",
              "2     J0437-4715   28500.0\n",
              "8     J2124-3358   25200.0"
            ]
          },
          "metadata": {
            "tags": []
          },
          "execution_count": 5
        }
      ]
    },
    {
      "cell_type": "markdown",
      "metadata": {
        "id": "6Vu3Ok5n-Y64"
      },
      "source": [
        "type 1: The faster the pulsar spins(Lower po values is said to be fast moving pulsar), the higher the B_Lc values "
      ]
    },
    {
      "cell_type": "code",
      "metadata": {
        "colab": {
          "base_uri": "https://localhost:8080/",
          "height": 220
        },
        "id": "yU0lrWwd-VRm",
        "outputId": "9a99eccf-8ac0-4cd7-c090-a1f567d40a4b"
      },
      "source": [
        "t_1=H.iloc[[3,9,0,6,5,7],[0,1,10]]\n",
        "t_1"
      ],
      "execution_count": 6,
      "outputs": [
        {
          "output_type": "execute_result",
          "data": {
            "text/html": [
              "<div>\n",
              "<style scoped>\n",
              "    .dataframe tbody tr th:only-of-type {\n",
              "        vertical-align: middle;\n",
              "    }\n",
              "\n",
              "    .dataframe tbody tr th {\n",
              "        vertical-align: top;\n",
              "    }\n",
              "\n",
              "    .dataframe thead th {\n",
              "        text-align: right;\n",
              "    }\n",
              "</style>\n",
              "<table border=\"1\" class=\"dataframe\">\n",
              "  <thead>\n",
              "    <tr style=\"text-align: right;\">\n",
              "      <th></th>\n",
              "      <th>Name of pulsar</th>\n",
              "      <th>po</th>\n",
              "      <th>B_Lc</th>\n",
              "    </tr>\n",
              "  </thead>\n",
              "  <tbody>\n",
              "    <tr>\n",
              "      <th>3</th>\n",
              "      <td>J0534+2200</td>\n",
              "      <td>0.033392</td>\n",
              "      <td>955000.0</td>\n",
              "    </tr>\n",
              "    <tr>\n",
              "      <th>9</th>\n",
              "      <td>J2229+6114</td>\n",
              "      <td>0.051624</td>\n",
              "      <td>139000.0</td>\n",
              "    </tr>\n",
              "    <tr>\n",
              "      <th>0</th>\n",
              "      <td>J0205+6449</td>\n",
              "      <td>0.065716</td>\n",
              "      <td>119000.0</td>\n",
              "    </tr>\n",
              "    <tr>\n",
              "      <th>6</th>\n",
              "      <td>J1617-5055</td>\n",
              "      <td>0.069357</td>\n",
              "      <td>87000.0</td>\n",
              "    </tr>\n",
              "    <tr>\n",
              "      <th>5</th>\n",
              "      <td>J1124-5916</td>\n",
              "      <td>0.135477</td>\n",
              "      <td>38500.0</td>\n",
              "    </tr>\n",
              "    <tr>\n",
              "      <th>7</th>\n",
              "      <td>J1930+1852</td>\n",
              "      <td>0.136855</td>\n",
              "      <td>37500.0</td>\n",
              "    </tr>\n",
              "  </tbody>\n",
              "</table>\n",
              "</div>"
            ],
            "text/plain": [
              "  Name of pulsar        po      B_Lc\n",
              "3     J0534+2200  0.033392  955000.0\n",
              "9     J2229+6114  0.051624  139000.0\n",
              "0     J0205+6449  0.065716  119000.0\n",
              "6     J1617-5055  0.069357   87000.0\n",
              "5     J1124-5916  0.135477   38500.0\n",
              "7     J1930+1852  0.136855   37500.0"
            ]
          },
          "metadata": {
            "tags": []
          },
          "execution_count": 6
        }
      ]
    },
    {
      "cell_type": "code",
      "metadata": {
        "colab": {
          "base_uri": "https://localhost:8080/",
          "height": 296
        },
        "id": "7GFi-_aG-gye",
        "outputId": "e8805af1-009a-447c-9145-9f552c319556"
      },
      "source": [
        "sns.scatterplot(x=np.log10(t_1['B_Lc']), y=np.log10(t_1['po']),hue=t_1['Name of pulsar'])"
      ],
      "execution_count": 7,
      "outputs": [
        {
          "output_type": "execute_result",
          "data": {
            "text/plain": [
              "<matplotlib.axes._subplots.AxesSubplot at 0x7fc48e943e50>"
            ]
          },
          "metadata": {
            "tags": []
          },
          "execution_count": 7
        },
        {
          "output_type": "display_data",
          "data": {
            "image/png": "[encoded data removed]",
            "text/plain": [
              "<Figure size 432x288 with 1 Axes>"
            ]
          },
          "metadata": {
            "tags": [],
            "needs_background": "light"
          }
        }
      ]
    },
    {
      "cell_type": "markdown",
      "metadata": {
        "id": "eEilLLMX-s1d"
      },
      "source": [
        "Type2: same as previous one, but it doesn't match when i put type 1, type 2 together(The fast spinning pulsar has good B_Lc)"
      ]
    },
    {
      "cell_type": "code",
      "metadata": {
        "colab": {
          "base_uri": "https://localhost:8080/",
          "height": 105
        },
        "id": "fF3iUQiI-m_O",
        "outputId": "f9df5aab-7c6d-47b3-f195-5e3fa8e9a559"
      },
      "source": [
        "t_2=H.iloc[[1,4],[0,1,10]]\n",
        "t_2"
      ],
      "execution_count": 8,
      "outputs": [
        {
          "output_type": "execute_result",
          "data": {
            "text/html": [
              "<div>\n",
              "<style scoped>\n",
              "    .dataframe tbody tr th:only-of-type {\n",
              "        vertical-align: middle;\n",
              "    }\n",
              "\n",
              "    .dataframe tbody tr th {\n",
              "        vertical-align: top;\n",
              "    }\n",
              "\n",
              "    .dataframe thead th {\n",
              "        text-align: right;\n",
              "    }\n",
              "</style>\n",
              "<table border=\"1\" class=\"dataframe\">\n",
              "  <thead>\n",
              "    <tr style=\"text-align: right;\">\n",
              "      <th></th>\n",
              "      <th>Name of pulsar</th>\n",
              "      <th>po</th>\n",
              "      <th>B_Lc</th>\n",
              "    </tr>\n",
              "  </thead>\n",
              "  <tbody>\n",
              "    <tr>\n",
              "      <th>1</th>\n",
              "      <td>J0218+4232</td>\n",
              "      <td>0.002323</td>\n",
              "      <td>321000.0</td>\n",
              "    </tr>\n",
              "    <tr>\n",
              "      <th>4</th>\n",
              "      <td>J1105-6107</td>\n",
              "      <td>0.063202</td>\n",
              "      <td>37600.0</td>\n",
              "    </tr>\n",
              "  </tbody>\n",
              "</table>\n",
              "</div>"
            ],
            "text/plain": [
              "  Name of pulsar        po      B_Lc\n",
              "1     J0218+4232  0.002323  321000.0\n",
              "4     J1105-6107  0.063202   37600.0"
            ]
          },
          "metadata": {
            "tags": []
          },
          "execution_count": 8
        }
      ]
    },
    {
      "cell_type": "code",
      "metadata": {
        "colab": {
          "base_uri": "https://localhost:8080/",
          "height": 296
        },
        "id": "Aktpd_Aw-z0o",
        "outputId": "e5e33f19-3563-49db-91a2-be422a00712d"
      },
      "source": [
        "sns.scatterplot(x=np.log10(t_2['B_Lc']), y=np.log10(t_2['po']),hue=t_2['Name of pulsar'])"
      ],
      "execution_count": 9,
      "outputs": [
        {
          "output_type": "execute_result",
          "data": {
            "text/plain": [
              "<matplotlib.axes._subplots.AxesSubplot at 0x7fc48e43bc50>"
            ]
          },
          "metadata": {
            "tags": []
          },
          "execution_count": 9
        },
        {
          "output_type": "display_data",
          "data": {
            "image/png": "[encoded data removed]",
            "text/plain": [
              "<Figure size 432x288 with 1 Axes>"
            ]
          },
          "metadata": {
            "tags": [],
            "needs_background": "light"
          }
        }
      ]
    },
    {
      "cell_type": "markdown",
      "metadata": {
        "id": "9rJ44c0w-_Er"
      },
      "source": [
        "Together type 1 , type 2"
      ]
    },
    {
      "cell_type": "code",
      "metadata": {
        "id": "5miBlHbI-8br"
      },
      "source": [
        "ty_1_2=H.iloc[[3,9,0,6,5,7,1,4],[0,1,10]]"
      ],
      "execution_count": 10,
      "outputs": []
    },
    {
      "cell_type": "code",
      "metadata": {
        "colab": {
          "base_uri": "https://localhost:8080/",
          "height": 296
        },
        "id": "1G0FvfQl_FK4",
        "outputId": "28131a12-ed22-49bf-9413-ff8a9fd81a36"
      },
      "source": [
        "sns.scatterplot(x=np.log10(ty_1_2['B_Lc']), y=np.log10(ty_1_2['po']),hue=ty_1_2['Name of pulsar'])"
      ],
      "execution_count": 11,
      "outputs": [
        {
          "output_type": "execute_result",
          "data": {
            "text/plain": [
              "<matplotlib.axes._subplots.AxesSubplot at 0x7fc48e469190>"
            ]
          },
          "metadata": {
            "tags": []
          },
          "execution_count": 11
        },
        {
          "output_type": "display_data",
          "data": {
            "image/png": "[encoded data removed]",
            "text/plain": [
              "<Figure size 432x288 with 1 Axes>"
            ]
          },
          "metadata": {
            "tags": [],
            "needs_background": "light"
          }
        }
      ]
    },
    {
      "cell_type": "markdown",
      "metadata": {
        "id": "K1eHk3Y0_PTP"
      },
      "source": [
        "type3 The faster pulsar spins, the lower the B_Lc(Having inverse relationship compared to previous)"
      ]
    },
    {
      "cell_type": "code",
      "metadata": {
        "colab": {
          "base_uri": "https://localhost:8080/",
          "height": 105
        },
        "id": "h97CP5NZ_LAU",
        "outputId": "dbba4e22-3dab-47c9-beaf-4976c36f0037"
      },
      "source": [
        "t_3=H.iloc[[8,2],[0,1,10]]\n",
        "t_3"
      ],
      "execution_count": 12,
      "outputs": [
        {
          "output_type": "execute_result",
          "data": {
            "text/html": [
              "<div>\n",
              "<style scoped>\n",
              "    .dataframe tbody tr th:only-of-type {\n",
              "        vertical-align: middle;\n",
              "    }\n",
              "\n",
              "    .dataframe tbody tr th {\n",
              "        vertical-align: top;\n",
              "    }\n",
              "\n",
              "    .dataframe thead th {\n",
              "        text-align: right;\n",
              "    }\n",
              "</style>\n",
              "<table border=\"1\" class=\"dataframe\">\n",
              "  <thead>\n",
              "    <tr style=\"text-align: right;\">\n",
              "      <th></th>\n",
              "      <th>Name of pulsar</th>\n",
              "      <th>po</th>\n",
              "      <th>B_Lc</th>\n",
              "    </tr>\n",
              "  </thead>\n",
              "  <tbody>\n",
              "    <tr>\n",
              "      <th>8</th>\n",
              "      <td>J2124-3358</td>\n",
              "      <td>0.004931</td>\n",
              "      <td>25200.0</td>\n",
              "    </tr>\n",
              "    <tr>\n",
              "      <th>2</th>\n",
              "      <td>J0437-4715</td>\n",
              "      <td>0.005757</td>\n",
              "      <td>28500.0</td>\n",
              "    </tr>\n",
              "  </tbody>\n",
              "</table>\n",
              "</div>"
            ],
            "text/plain": [
              "  Name of pulsar        po     B_Lc\n",
              "8     J2124-3358  0.004931  25200.0\n",
              "2     J0437-4715  0.005757  28500.0"
            ]
          },
          "metadata": {
            "tags": []
          },
          "execution_count": 12
        }
      ]
    },
    {
      "cell_type": "code",
      "metadata": {
        "colab": {
          "base_uri": "https://localhost:8080/",
          "height": 296
        },
        "id": "tjo6-yZp_WS0",
        "outputId": "80671de5-b651-4587-a616-57206b413c68"
      },
      "source": [
        "sns.scatterplot(x=np.log10(t_3['B_Lc']), y=np.log10(t_3['po']),hue=t_3['Name of pulsar'])"
      ],
      "execution_count": 13,
      "outputs": [
        {
          "output_type": "execute_result",
          "data": {
            "text/plain": [
              "<matplotlib.axes._subplots.AxesSubplot at 0x7fc48e341850>"
            ]
          },
          "metadata": {
            "tags": []
          },
          "execution_count": 13
        },
        {
          "output_type": "display_data",
          "data": {
            "image/png": "[encoded data removed]",
            "text/plain": [
              "<Figure size 432x288 with 1 Axes>"
            ]
          },
          "metadata": {
            "tags": [],
            "needs_background": "light"
          }
        }
      ]
    },
    {
      "cell_type": "markdown",
      "metadata": {
        "id": "BrM1PCkY_bYP"
      },
      "source": [
        "*We have to check why type 1 is giving good relation, Why Type 2 is not giving proper relation when we combine with the type 1 data, Why Type 3 is giving inverse relation compare to type 1, 2 *\n"
      ]
    },
    {
      "cell_type": "code",
      "metadata": {
        "id": "V2MOSS9BACwd"
      },
      "source": [
        ""
      ],
      "execution_count": null,
      "outputs": []
    }
  ]
}